{
  "cells": [
    {
      "cell_type": "markdown",
      "metadata": {
        "id": "view-in-github",
        "colab_type": "text"
      },
      "source": [
        "<a href=\"https://colab.research.google.com/github/AfrozSaqlain/ML-4-High-Energy-Physics/blob/main/Hypothesis_Testing.ipynb\" target=\"_parent\"><img src=\"https://colab.research.google.com/assets/colab-badge.svg\" alt=\"Open In Colab\"/></a>"
      ]
    },
    {
      "cell_type": "code",
      "source": [
        "import numpy as np\n",
        "import matplotlib.pyplot as plt"
      ],
      "metadata": {
        "id": "-W57WXchLgiO"
      },
      "execution_count": 1,
      "outputs": []
    },
    {
      "cell_type": "code",
      "source": [
        "tosses = 100\n",
        "heads = 46\n",
        "experimnets = 10000"
      ],
      "metadata": {
        "id": "kANSDBRkLliI"
      },
      "execution_count": 2,
      "outputs": []
    },
    {
      "cell_type": "code",
      "source": [
        "biased = np.random.binomial(tosses, heads/tosses, experimnets)\n",
        "unbiased = np.random.binomial(tosses, 0.5, experimnets)"
      ],
      "metadata": {
        "id": "8c0mzYz8Ly5I"
      },
      "execution_count": 3,
      "outputs": []
    },
    {
      "cell_type": "code",
      "source": [
        "plt.hist(unbiased, bins=100, label='Unbiased')\n",
        "plt.hist(biased, bins=100, alpha=0.5, label='Biased')\n",
        "plt.axvline(46, color='red')\n",
        "plt.axvline(42, color='green', linestyle='--')\n",
        "plt.legend()"
      ],
      "metadata": {
        "colab": {
          "base_uri": "https://localhost:8080/",
          "height": 447
        },
        "id": "obFP_t8POVoZ",
        "outputId": "514f9712-4202-4c67-c217-f9f7e1f5894f"
      },
      "execution_count": 4,
      "outputs": [
        {
          "output_type": "execute_result",
          "data": {
            "text/plain": [
              "<matplotlib.legend.Legend at 0x7e6818671bd0>"
            ]
          },
          "metadata": {},
          "execution_count": 4
        },
        {
          "output_type": "display_data",
          "data": {
            "text/plain": [
              "<Figure size 640x480 with 1 Axes>"
            ],
            "image/png": "[encoded data removed]"
          },
          "metadata": {}
        }
      ]
    },
    {
      "cell_type": "code",
      "source": [
        "observed = 46\n",
        "\n",
        "p_value = np.mean(np.abs(unbiased) < observed)\n",
        "\n",
        "print(f\"The p-value is: {p_value}\")"
      ],
      "metadata": {
        "colab": {
          "base_uri": "https://localhost:8080/"
        },
        "id": "2RAotu9_ME61",
        "outputId": "8e9537e5-7707-45d7-b443-e2fb512deba6"
      },
      "execution_count": 5,
      "outputs": [
        {
          "output_type": "stream",
          "name": "stdout",
          "text": [
            "The p-value is: 0.1798\n"
          ]
        }
      ]
    },
    {
      "cell_type": "code",
      "source": [
        "elements = set(unbiased)\n",
        "\n",
        "for i in elements:\n",
        "  p_value = np.mean(np.abs(unbiased) < i)\n",
        "  if p_value > 0.05:\n",
        "    power = p_value\n",
        "    break\n",
        "  else:\n",
        "    critical_value = i\n",
        "\n",
        "power = np.mean(np.abs(biased) < critical_value)\n",
        "\n",
        "print(f'Critical value is: {critical_value}')\n",
        "print(f'Power of test is: {power}')"
      ],
      "metadata": {
        "colab": {
          "base_uri": "https://localhost:8080/"
        },
        "id": "IBAGAYoZOEw6",
        "outputId": "eb2131ce-72be-4227-b455-cec2a13bf402"
      },
      "execution_count": 6,
      "outputs": [
        {
          "output_type": "stream",
          "name": "stdout",
          "text": [
            "Critical value is: 42\n",
            "Power of test is: 0.1835\n"
          ]
        }
      ]
    },
    {
      "cell_type": "code",
      "source": [
        "# Use LIkelihood ratio as test of statistics"
      ],
      "metadata": {
        "id": "XRM88tHyZZeW"
      },
      "execution_count": 7,
      "outputs": []
    },
    {
      "cell_type": "code",
      "source": [
        "n = 100\n",
        "k = 46\n",
        "p_hat = k / n\n",
        "\n",
        "H0 = 0.5**k * 0.5**(n - k)\n",
        "H1 = p_hat**k * (1 - p_hat)**(n - k)\n",
        "\n",
        "Lambda = -2 * np.log(H0 / H1)\n",
        "\n",
        "print(f\"Likelihood Ratio Test Statistic: {Lambda:.4f}\")"
      ],
      "metadata": {
        "id": "viyMOKvA5B5u",
        "outputId": "d0900899-6f82-4106-f8ae-86cd72dc324f",
        "colab": {
          "base_uri": "https://localhost:8080/"
        }
      },
      "execution_count": 15,
      "outputs": [
        {
          "output_type": "stream",
          "name": "stdout",
          "text": [
            "Likelihood Ratio Test Statistic: 0.6407\n"
          ]
        }
      ]
    },
    {
      "cell_type": "code",
      "source": [],
      "metadata": {
        "id": "GDE8CawH5gJR"
      },
      "execution_count": null,
      "outputs": []
    }
  ],
  "metadata": {
    "colab": {
      "name": "Welcome to Colab",
      "provenance": [],
      "include_colab_link": true
    },
    "kernelspec": {
      "display_name": "Python 3",
      "name": "python3"
    }
  },
  "nbformat": 4,
  "nbformat_minor": 0
}