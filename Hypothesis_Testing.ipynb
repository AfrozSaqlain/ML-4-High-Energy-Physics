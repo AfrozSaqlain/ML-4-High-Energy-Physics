{
  "cells": [
    {
      "cell_type": "markdown",
      "metadata": {
        "id": "view-in-github",
        "colab_type": "text"
      },
      "source": [
        "<a href=\"https://colab.research.google.com/github/AfrozSaqlain/ML-4-High-Energy-Physics/blob/main/Hypothesis_Testing.ipynb\" target=\"_parent\"><img src=\"https://colab.research.google.com/assets/colab-badge.svg\" alt=\"Open In Colab\"/></a>"
      ]
    },
    {
      "cell_type": "code",
      "source": [
        "import numpy as np\n",
        "import matplotlib.pyplot as plt"
      ],
      "metadata": {
        "id": "-W57WXchLgiO"
      },
      "execution_count": 1,
      "outputs": []
    },
    {
      "cell_type": "code",
      "source": [
        "tosses = 100\n",
        "heads = 46\n",
        "experimnets = 10000"
      ],
      "metadata": {
        "id": "kANSDBRkLliI"
      },
      "execution_count": 32,
      "outputs": []
    },
    {
      "cell_type": "code",
      "source": [
        "biased = np.random.binomial(tosses, heads/tosses, experimnets)\n",
        "unbiased = np.random.binomial(tosses, 0.5, experimnets)"
      ],
      "metadata": {
        "id": "8c0mzYz8Ly5I"
      },
      "execution_count": 33,
      "outputs": []
    },
    {
      "cell_type": "code",
      "source": [
        "plt.hist(unbiased, bins=100, label='Unbiased')\n",
        "plt.hist(biased, bins=100, alpha=0.5, label='Biased')\n",
        "plt.axvline(46, color='red')\n",
        "plt.axvline(42, color='green', linestyle='--')\n",
        "plt.legend()"
      ],
      "metadata": {
        "colab": {
          "base_uri": "https://localhost:8080/",
          "height": 447
        },
        "id": "obFP_t8POVoZ",
        "outputId": "cb5a7def-6eff-44ec-8999-581ad87ebc79"
      },
      "execution_count": 70,
      "outputs": [
        {
          "output_type": "execute_result",
          "data": {
            "text/plain": [
              "<matplotlib.legend.Legend at 0x79edb196d250>"
            ]
          },
          "metadata": {},
          "execution_count": 70
        },
        {
          "output_type": "display_data",
          "data": {
            "text/plain": [
              "<Figure size 640x480 with 1 Axes>"
            ],
            "image/png": "[encoded data removed]"
          },
          "metadata": {}
        }
      ]
    },
    {
      "cell_type": "code",
      "source": [
        "observed = 46\n",
        "\n",
        "p_value = np.mean(np.abs(unbiased) < observed)\n",
        "\n",
        "print(f\"The p-value is: {p_value}\")"
      ],
      "metadata": {
        "colab": {
          "base_uri": "https://localhost:8080/"
        },
        "id": "2RAotu9_ME61",
        "outputId": "c36d455b-3dee-416a-9959-c7bdad3b439b"
      },
      "execution_count": 47,
      "outputs": [
        {
          "output_type": "stream",
          "name": "stdout",
          "text": [
            "The p-value is: 0.1796\n"
          ]
        }
      ]
    },
    {
      "cell_type": "code",
      "source": [
        "elements = set(unbiased)\n",
        "\n",
        "for i in elements:\n",
        "  p_value = np.mean(np.abs(unbiased) < i)\n",
        "  if p_value > 0.05:\n",
        "    power = p_value\n",
        "    break\n",
        "  else:\n",
        "    critical_value = i\n",
        "\n",
        "power = np.mean(np.abs(biased) < critical_value)\n",
        "\n",
        "print(f'Critical value is: {critical_value}')\n",
        "print(f'Power of test is: {power}')"
      ],
      "metadata": {
        "colab": {
          "base_uri": "https://localhost:8080/"
        },
        "id": "IBAGAYoZOEw6",
        "outputId": "21f5cd2c-d8ea-463a-e44b-e6e36dcee424"
      },
      "execution_count": 74,
      "outputs": [
        {
          "output_type": "stream",
          "name": "stdout",
          "text": [
            "Critical value is: 42\n",
            "Power of test is: 0.1857\n"
          ]
        }
      ]
    },
    {
      "cell_type": "code",
      "source": [
        "# Use LIkelihood ratio as test of statistics"
      ],
      "metadata": {
        "id": "XRM88tHyZZeW"
      },
      "execution_count": null,
      "outputs": []
    },
    {
      "cell_type": "code",
      "source": [],
      "metadata": {
        "id": "Ualvzc_JV8jn"
      },
      "execution_count": null,
      "outputs": []
    }
  ],
  "metadata": {
    "colab": {
      "name": "Welcome to Colab",
      "provenance": [],
      "include_colab_link": true
    },
    "kernelspec": {
      "display_name": "Python 3",
      "name": "python3"
    }
  },
  "nbformat": 4,
  "nbformat_minor": 0
}